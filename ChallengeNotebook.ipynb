{
 "cells": [
  {
   "cell_type": "markdown",
   "metadata": {},
   "source": [
    "# Week Two Challenge"
   ]
  },
  {
   "cell_type": "code",
   "execution_count": 1,
   "metadata": {},
   "outputs": [
    {
     "name": "stdout",
     "output_type": "stream",
     "text": [
      "2\n"
     ]
    }
   ],
   "source": [
    "a = \"hello world\"\n",
    "def count_words(str):\n",
    "    listStrings = str.split(\" \")\n",
    "    return len(listStrings)\n",
    "print(count_words(a))"
   ]
  },
  {
   "cell_type": "code",
   "execution_count": 2,
   "metadata": {},
   "outputs": [
    {
     "name": "stdout",
     "output_type": "stream",
     "text": [
      "Enter a task: run\n",
      "Enter your favorite animal: dog\n",
      "Enter a container: jar\n",
      "Enter a plural food: berries\n",
      "The only way to run\n",
      "Is to feed it to a dog\n",
      "Then put it in a jar\n",
      "Then you will have a berries\n"
     ]
    }
   ],
   "source": [
    "task = input(\"Enter a task: \")\n",
    "animal = input(\"Enter your favorite animal: \")\n",
    "container = input(\"Enter a container: \")\n",
    "plural_food = input(\"Enter a plural food: \")\n",
    "\n",
    "print(\"The only way to \" + task)\n",
    "print(\"Is to feed it to a \" + animal)\n",
    "print(\"Then put it in a \" + container)\n",
    "print(\"Then you will have a \" + plural_food)"
   ]
  },
  {
   "cell_type": "markdown",
   "metadata": {},
   "source": [
    "#Week Six Challenge"
   ]
  },
  {
   "cell_type": "code",
   "execution_count": 26,
   "metadata": {},
   "outputs": [
    {
     "name": "stdout",
     "output_type": "stream",
     "text": [
      "[0.4, 0.3, 0.2, 0.1]\n",
      "Final grade is 80.3\n",
      "Standard Deviation is 2.9976465812048034\n"
     ]
    }
   ],
   "source": [
    "import math\n",
    "grades = [85,75,69,100]\n",
    "weights = [0.4,0.3,0.2,0.1]\n",
    "\n",
    "\n",
    "def finalGrade(grade,weight):\n",
    "    #print(grade)\n",
    "    print(weight)\n",
    "    num = 0.0\n",
    "    for x in range(len(grade)):\n",
    "        num += grade[x] * weight[x]\n",
    "    print(\"Final grade is\",num)\n",
    "    \n",
    "finalGrade(grades,weights)\n",
    "\n",
    "def standardDeviation(grade):\n",
    "    #print(grade)\n",
    "    mean = 0.0\n",
    "    for x in range(len(grade)):\n",
    "        mean += grade[x]\n",
    "    mean = mean/len(grade)\n",
    "    #print(mean)\n",
    "    sum = 0.0\n",
    "    for y in range(len(grade)):\n",
    "        sum += math.sqrt(mean - y)\n",
    "        sum = abs(sum)\n",
    "    divided = sum/len(grade)\n",
    "    stDeviation = math.sqrt(divided)\n",
    "    print(\"Standard Deviation is\", stDeviation)\n",
    "    \n",
    "standardDeviation(grades)"
   ]
  }
 ],
 "metadata": {
  "kernelspec": {
   "display_name": "Python 3",
   "language": "python",
   "name": "python3"
  },
  "language_info": {
   "codemirror_mode": {
    "name": "ipython",
    "version": 3
   },
   "file_extension": ".py",
   "mimetype": "text/x-python",
   "name": "python",
   "nbconvert_exporter": "python",
   "pygments_lexer": "ipython3",
   "version": "3.7.3"
  }
 },
 "nbformat": 4,
 "nbformat_minor": 2
}
