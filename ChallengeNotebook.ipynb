{
 "cells": [
  {
   "cell_type": "markdown",
   "metadata": {},
   "source": [
    "# Week Two Challenge"
   ]
  },
  {
   "cell_type": "code",
   "execution_count": 1,
   "metadata": {},
   "outputs": [
    {
     "name": "stdout",
     "output_type": "stream",
     "text": [
      "2\n"
     ]
    }
   ],
   "source": [
    "a = \"hello world\"\n",
    "def count_words(str):\n",
    "    listStrings = str.split(\" \")\n",
    "    return len(listStrings)\n",
    "print(count_words(a))"
   ]
  },
  {
   "cell_type": "code",
   "execution_count": 2,
   "metadata": {},
   "outputs": [
    {
     "name": "stdout",
     "output_type": "stream",
     "text": [
      "Enter a task: run\n",
      "Enter your favorite animal: dog\n",
      "Enter a container: jar\n",
      "Enter a plural food: berries\n",
      "The only way to run\n",
      "Is to feed it to a dog\n",
      "Then put it in a jar\n",
      "Then you will have a berries\n"
     ]
    }
   ],
   "source": [
    "task = input(\"Enter a task: \")\n",
    "animal = input(\"Enter your favorite animal: \")\n",
    "container = input(\"Enter a container: \")\n",
    "plural_food = input(\"Enter a plural food: \")\n",
    "\n",
    "print(\"The only way to \" + task)\n",
    "print(\"Is to feed it to a \" + animal)\n",
    "print(\"Then put it in a \" + container)\n",
    "print(\"Then you will have a \" + plural_food)"
   ]
  },
  {
   "cell_type": "markdown",
   "metadata": {},
   "source": [
    "#Week Six Challenge"
   ]
  },
  {
   "cell_type": "code",
   "execution_count": 5,
   "metadata": {},
   "outputs": [
    {
     "name": "stdout",
     "output_type": "stream",
     "text": [
      "Final grade is 80.3\n",
      "Standard Deviation is 11.734031702701335\n"
     ]
    }
   ],
   "source": [
    "#import math\n",
    "grades = [85,75,69,100]\n",
    "weights = [0.4,0.3,0.2,0.1]\n",
    "\n",
    "\n",
    "def finalGrade(grade,weight):\n",
    "    #print(grade)\n",
    "    #print(weight)\n",
    "    num = 0.0\n",
    "    for x in range(len(grade)):\n",
    "        num += grade[x] * weight[x]\n",
    "    print(\"Final grade is\",num)\n",
    "    \n",
    "finalGrade(grades,weights)\n",
    "\n",
    "def standardDeviation(grade):\n",
    "    #print(grade)\n",
    "    mean = 0.0\n",
    "    for x in range(len(grade)):\n",
    "        mean += grade[x]\n",
    "    mean = mean/len(grade)\n",
    "    #print(mean)\n",
    "    sum = 0.0\n",
    "    for y in range(len(grade)):\n",
    "        sum += (mean - grade[y])**2\n",
    "        #sum = abs(sum)\n",
    "    divided = sum/len(grade)\n",
    "    stDeviation = (divided)**0.5\n",
    "    print(\"Standard Deviation is\", stDeviation)\n",
    "    \n",
    "standardDeviation(grades)"
   ]
  },
  {
   "cell_type": "code",
   "execution_count": 1,
   "metadata": {},
   "outputs": [
    {
     "ename": "ModuleNotFoundError",
     "evalue": "No module named 'gym'",
     "output_type": "error",
     "traceback": [
      "\u001b[1;31m---------------------------------------------------------------------------\u001b[0m",
      "\u001b[1;31mModuleNotFoundError\u001b[0m                       Traceback (most recent call last)",
      "\u001b[1;32m<ipython-input-1-6b5a428566c8>\u001b[0m in \u001b[0;36m<module>\u001b[1;34m\u001b[0m\n\u001b[0;32m      1\u001b[0m \u001b[1;31m#set up gym\u001b[0m\u001b[1;33m\u001b[0m\u001b[1;33m\u001b[0m\u001b[1;33m\u001b[0m\u001b[0m\n\u001b[0;32m      2\u001b[0m \u001b[1;33m\u001b[0m\u001b[0m\n\u001b[1;32m----> 3\u001b[1;33m \u001b[1;32mimport\u001b[0m \u001b[0mgym\u001b[0m\u001b[1;33m\u001b[0m\u001b[1;33m\u001b[0m\u001b[0m\n\u001b[0m\u001b[0;32m      4\u001b[0m \u001b[0menv\u001b[0m \u001b[1;33m=\u001b[0m \u001b[0mgym\u001b[0m\u001b[1;33m.\u001b[0m\u001b[0mmake\u001b[0m\u001b[1;33m(\u001b[0m\u001b[1;34m'Taxi-v2'\u001b[0m\u001b[1;33m)\u001b[0m\u001b[1;33m\u001b[0m\u001b[1;33m\u001b[0m\u001b[0m\n\u001b[0;32m      5\u001b[0m \u001b[1;33m\u001b[0m\u001b[0m\n",
      "\u001b[1;31mModuleNotFoundError\u001b[0m: No module named 'gym'"
     ]
    }
   ],
   "source": [
    "#set up gym\n",
    "\n",
    "import gym\n",
    "env = gym.make('Taxi-v2')\n",
    "\n",
    "#create a game loop and take random actions\n",
    "\n",
    "observation = env.reset()\n",
    "reward = 0\n",
    "while reward != 20:\n",
    "    observation, reward, done, info = env.step(env.action_space.sample())\n",
    "env.render()\n"
   ]
  }
 ],
 "metadata": {
  "kernelspec": {
   "display_name": "Python 3",
   "language": "python",
   "name": "python3"
  },
  "language_info": {
   "codemirror_mode": {
    "name": "ipython",
    "version": 3
   },
   "file_extension": ".py",
   "mimetype": "text/x-python",
   "name": "python",
   "nbconvert_exporter": "python",
   "pygments_lexer": "ipython3",
   "version": "3.7.3"
  }
 },
 "nbformat": 4,
 "nbformat_minor": 2
}
